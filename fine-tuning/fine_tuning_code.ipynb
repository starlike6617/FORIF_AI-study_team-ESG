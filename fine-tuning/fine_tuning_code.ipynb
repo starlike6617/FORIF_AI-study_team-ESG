{
 "cells": [
  {
   "cell_type": "code",
   "execution_count": null,
   "id": "fd7794f4",
   "metadata": {},
   "outputs": [],
   "source": [
    "!pip install scikit-learn\n",
    "!pip install pandas\n",
    "!pip install numpy\n",
    "!pip install matplotlib\n",
    "!pip install tqdm\n",
    "!pip install torch\n",
    "!pip install tabulate\n"
   ]
  },
  {
   "cell_type": "code",
   "execution_count": null,
   "id": "cee066aa",
   "metadata": {},
   "outputs": [],
   "source": [
    "pip install transformers==4.35.2 accelerate==0.23.0"
   ]
  },
  {
   "cell_type": "code",
   "execution_count": 38,
   "id": "e364e0ab",
   "metadata": {},
   "outputs": [],
   "source": [
    "from transformers import AutoConfig"
   ]
  },
  {
   "cell_type": "code",
   "execution_count": 1,
   "id": "c9152814",
   "metadata": {},
   "outputs": [
    {
     "name": "stderr",
     "output_type": "stream",
     "text": [
      "/home/elicer/FORIF_AI-study_team-ESG/.venv/lib/python3.11/site-packages/transformers/utils/generic.py:441: FutureWarning: `torch.utils._pytree._register_pytree_node` is deprecated. Please use `torch.utils._pytree.register_pytree_node` instead.\n",
      "  _torch_pytree._register_pytree_node(\n",
      "/home/elicer/FORIF_AI-study_team-ESG/.venv/lib/python3.11/site-packages/transformers/utils/generic.py:309: FutureWarning: `torch.utils._pytree._register_pytree_node` is deprecated. Please use `torch.utils._pytree.register_pytree_node` instead.\n",
      "  _torch_pytree._register_pytree_node(\n",
      "/home/elicer/FORIF_AI-study_team-ESG/.venv/lib/python3.11/site-packages/transformers/utils/generic.py:309: FutureWarning: `torch.utils._pytree._register_pytree_node` is deprecated. Please use `torch.utils._pytree.register_pytree_node` instead.\n",
      "  _torch_pytree._register_pytree_node(\n",
      "/home/elicer/FORIF_AI-study_team-ESG/.venv/lib/python3.11/site-packages/huggingface_hub/file_download.py:896: FutureWarning: `resume_download` is deprecated and will be removed in version 1.0.0. Downloads always resume when possible. If you want to force a new download, use `force_download=True`.\n",
      "  warnings.warn(\n"
     ]
    },
    {
     "data": {
      "application/vnd.jupyter.widget-view+json": {
       "model_id": "a56a1fd20b4c423cbd44658cfbe5622d",
       "version_major": 2,
       "version_minor": 0
      },
      "text/plain": [
       "tokenizer_config.json:   0%|          | 0.00/372 [00:00<?, ?B/s]"
      ]
     },
     "metadata": {},
     "output_type": "display_data"
    },
    {
     "data": {
      "application/vnd.jupyter.widget-view+json": {
       "model_id": "4b95ee7f71964db68beddac7d8c4f202",
       "version_major": 2,
       "version_minor": 0
      },
      "text/plain": [
       "vocab.txt:   0%|          | 0.00/143k [00:00<?, ?B/s]"
      ]
     },
     "metadata": {},
     "output_type": "display_data"
    },
    {
     "data": {
      "application/vnd.jupyter.widget-view+json": {
       "model_id": "87cb67d5b15f4871be51f580a8e6c2ef",
       "version_major": 2,
       "version_minor": 0
      },
      "text/plain": [
       "tokenizer.json:   0%|          | 0.00/294k [00:00<?, ?B/s]"
      ]
     },
     "metadata": {},
     "output_type": "display_data"
    },
    {
     "data": {
      "application/vnd.jupyter.widget-view+json": {
       "model_id": "4c5fb93185ee4767821e9067817a8dc5",
       "version_major": 2,
       "version_minor": 0
      },
      "text/plain": [
       "special_tokens_map.json:   0%|          | 0.00/112 [00:00<?, ?B/s]"
      ]
     },
     "metadata": {},
     "output_type": "display_data"
    }
   ],
   "source": [
    "# Ko-FinBERT + Active Learning 기반 ESG 뉴스 감성 분석 (1차 & 2차 파인튜닝 모두 epoch 7~10 테스트)\n",
    "\n",
    "from transformers import AutoTokenizer, AutoModelForSequenceClassification, Trainer, TrainingArguments, DataCollatorWithPadding\n",
    "from datasets import Dataset\n",
    "import torch\n",
    "import numpy as np\n",
    "from tqdm import tqdm\n",
    "import pandas as pd\n",
    "import matplotlib.pyplot as plt\n",
    "from sklearn.metrics import accuracy_score, precision_recall_fscore_support\n",
    "import os\n",
    "import glob\n",
    "from tabulate import tabulate\n",
    "\n",
    "# 공통 설정\n",
    "model_name = \"snunlp/KR-FinBert-SC\"\n",
    "tokenizer = AutoTokenizer.from_pretrained(model_name)"
   ]
  },
  {
   "cell_type": "markdown",
   "id": "2a1a1abc",
   "metadata": {},
   "source": [
    "# 1. 함수"
   ]
  },
  {
   "cell_type": "code",
   "execution_count": 2,
   "id": "2fa4b547",
   "metadata": {},
   "outputs": [],
   "source": [
    "# 평가 지표 함수\n",
    "def compute_metrics(eval_pred):\n",
    "    logits, labels = eval_pred\n",
    "    predictions = np.argmax(logits, axis=-1)\n",
    "    precision, recall, f1, _ = precision_recall_fscore_support(labels, predictions, average='weighted')\n",
    "    acc = accuracy_score(labels, predictions)\n",
    "    return {'eval_accuracy': acc, 'f1': f1, 'precision': precision, 'recall': recall}"
   ]
  },
  {
   "cell_type": "code",
   "execution_count": 3,
   "id": "8f0b4cad",
   "metadata": {},
   "outputs": [],
   "source": [
    "# 지정한 epoch에 해당하는 모델을 평가 결과 CSV에서 찾아 로드하는 함수\n",
    "def load_model_from_epoch(report_csv_path, epoch, device=\"cuda\"):\n",
    "    \"\"\"\n",
    "    지정한 epoch에 해당하는 모델을 평가 결과 CSV에서 찾아 로드하는 함수.\n",
    "\n",
    "    Args:\n",
    "        report_csv_path (str): train_with_epochs()에서 생성한 성능 CSV 경로\n",
    "        epoch (int): 불러오고 싶은 epoch 번호\n",
    "        device (str): 'cuda' 또는 'cpu'\n",
    "\n",
    "    Returns:\n",
    "        model: AutoModelForSequenceClassification 객체\n",
    "    \"\"\"\n",
    "    df = pd.read_csv(report_csv_path)\n",
    "    \n",
    "    # 선택한 epoch에 해당하는 row 탐색\n",
    "    row = df[df[\"epoch\"] == epoch]\n",
    "    if row.empty:\n",
    "        raise ValueError(f\"[ERROR] epoch {epoch}에 해당하는 모델이 없습니다. CSV 파일을 확인해주세요.\")\n",
    "\n",
    "    model_path = row[\"model_save_path\"].values[0]\n",
    "    print(f\"[INFO] 🔍 모델 로딩: epoch {epoch} | 경로: {model_path}\")\n",
    "\n",
    "    # model = AutoModelForSequenceClassification.from_pretrained(model_path).to(device)\n",
    "    return model_path"
   ]
  },
  {
   "cell_type": "code",
   "execution_count": 45,
   "id": "bf8887eb",
   "metadata": {},
   "outputs": [],
   "source": [
    "# 학습\n",
    "def train_with_epochs(dataset, prefix):\n",
    "    results = []\n",
    "    dataset = dataset.train_test_split(test_size=0.2, seed=42)\n",
    "    print(f\"\\n🔧 데이터 분할 완료: 학습 {len(dataset['train'])}개, 평가 {len(dataset['test'])}개\")\n",
    "\n",
    "    for epoch in [7, 8, 9, 10]:\n",
    "        print(f\"\\n[INFO] 🔁 Training {prefix} with epoch={epoch}\")\n",
    "        model = AutoModelForSequenceClassification.from_pretrained(model_name, num_labels=3).to(\"cuda\")\n",
    "        # model 정의 바로 아래에 추가\n",
    "        print(\"📦 분류기 구조:\", model.classifier)\n",
    "        print(\"🔧 num_labels 설정:\", model.config.num_labels)\n",
    "        training_args = TrainingArguments(\n",
    "            output_dir=f\"./{prefix}-epoch-{epoch}\",\n",
    "            learning_rate=5e-5,\n",
    "            per_device_train_batch_size=12,\n",
    "            gradient_accumulation_steps=1,\n",
    "            num_train_epochs=epoch,\n",
    "            evaluation_strategy=\"epoch\",\n",
    "            save_strategy=\"epoch\",\n",
    "            load_best_model_at_end=False,\n",
    "            save_total_limit=None,\n",
    "            logging_steps=50,\n",
    "            report_to=\"none\",\n",
    "        )\n",
    "\n",
    "        trainer = Trainer(\n",
    "            model=model,\n",
    "            args=training_args,\n",
    "            train_dataset=dataset[\"train\"],\n",
    "            eval_dataset=dataset[\"test\"],\n",
    "            tokenizer=tokenizer,\n",
    "            data_collator=DataCollatorWithPadding(tokenizer),\n",
    "            compute_metrics=compute_metrics\n",
    "        )\n",
    "\n",
    "        trainer.train()\n",
    "        print(f\"[INFO] ✅ Epoch {epoch} 학습 완료\")\n",
    "        metrics = trainer.evaluate()\n",
    "        print(\"📊 평가 지표 반환 결과:\", metrics) \n",
    "        print(f\"[INFO] 📊 Epoch {epoch} 평가 결과: {metrics}\")\n",
    "        metrics[\"epoch\"] = epoch\n",
    "\n",
    "\n",
    "        # checkpoint 디렉토리 중 가장 마지막으로 저장된 경로를 가져와 저장\n",
    "        checkpoint_dirs = sorted(glob.glob(os.path.join(training_args.output_dir, \"checkpoint-*\")))\n",
    "        if checkpoint_dirs:\n",
    "            metrics[\"model_save_path\"] = checkpoint_dirs[-1]\n",
    "        else:\n",
    "            metrics[\"model_save_path\"] = \"Not found\"\n",
    "        results.append(metrics)\n",
    "\n",
    "        # ✅ epoch별 평가 지표 및 저장 위치 바로 출력\n",
    "        print(f\"[EPOCH {epoch}] Accuracy: {metrics['eval_accuracy']:.4f} | F1: {metrics['eval_f1']:.4f} | \"\n",
    "      f\"Precision: {metrics['eval_precision']:.4f} | Recall: {metrics['eval_recall']:.4f}\")\n",
    "        print(f\"[EPOCH {epoch}] 📁 Checkpoint 저장 경로: {metrics['model_save_path']}\")\n",
    "\n",
    "    results_df = pd.DataFrame(results)\n",
    "    results_df.to_csv(f\"{prefix}_epoch_performance_report.csv\", index=False)\n",
    "    \n",
    "    # ✅ 전체 결과 요약 표로 출력\n",
    "    print(\"\\n📊 전체 epoch 성능 요약:\")\n",
    "    summary_table = results_df[[\"epoch\", \"eval_accuracy\", \"eval_f1\", \"eval_precision\", \"eval_recall\", \"model_save_path\"]]\n",
    "    print(tabulate(summary_table, headers=\"keys\", tablefmt=\"github\", showindex=False))\n",
    "    print(\"\\n📈 성능 그래프:\")\n",
    "    results_df.set_index(\"epoch\")[[\"eval_accuracy\", \"eval_f1\"]].plot(marker=\"o\")\n",
    "    plt.title(f\"{prefix}: Epoch vs Accuracy/F1\")\n",
    "    plt.ylabel(\"Score\")\n",
    "    plt.xlabel(\"Epoch\")\n",
    "    plt.grid(True)\n",
    "    plt.savefig(f\"{prefix}_epoch_performance_plot.png\")\n",
    "    plt.show()\n",
    "\n",
    "    print(f\"\\n✅ {prefix} 학습완료! 원하는 epoch의 모델을 선택하여 사용하세요.\")\n",
    "    print(f\"🔎 결과 요약 파일: {prefix}_epoch_performance_report.csv\")\n",
    "    "
   ]
  },
  {
   "cell_type": "markdown",
   "id": "32d40e29",
   "metadata": {},
   "source": [
    "# 2. 1차 파인튜닝"
   ]
  },
  {
   "cell_type": "markdown",
   "id": "0809f223",
   "metadata": {},
   "source": [
    "### 2-1. epoch 테스트"
   ]
  },
  {
   "cell_type": "code",
   "execution_count": 11,
   "id": "195119c1",
   "metadata": {},
   "outputs": [
    {
     "name": "stdout",
     "output_type": "stream",
     "text": [
      "[STEP 1] 1차 라벨링 데이터 로딩 및 학습\n"
     ]
    },
    {
     "data": {
      "application/vnd.jupyter.widget-view+json": {
       "model_id": "b720d6f1d4984298b9288ae908f2123e",
       "version_major": 2,
       "version_minor": 0
      },
      "text/plain": [
       "Map:   0%|          | 0/2378 [00:00<?, ? examples/s]"
      ]
     },
     "metadata": {},
     "output_type": "display_data"
    },
    {
     "name": "stdout",
     "output_type": "stream",
     "text": [
      "\n",
      "🔧 데이터 분할 완료: 학습 1902개, 평가 476개\n",
      "\n",
      "[INFO] 🔁 Training round1 with epoch=1\n"
     ]
    },
    {
     "name": "stderr",
     "output_type": "stream",
     "text": [
      "/home/elicer/FORIF_AI-study_team-ESG/.venv/lib/python3.11/site-packages/huggingface_hub/file_download.py:896: FutureWarning: `resume_download` is deprecated and will be removed in version 1.0.0. Downloads always resume when possible. If you want to force a new download, use `force_download=True`.\n",
      "  warnings.warn(\n"
     ]
    },
    {
     "data": {
      "text/html": [
       "\n",
       "    <div>\n",
       "      \n",
       "      <progress value='159' max='159' style='width:300px; height:20px; vertical-align: middle;'></progress>\n",
       "      [159/159 00:10, Epoch 1/1]\n",
       "    </div>\n",
       "    <table border=\"1\" class=\"dataframe\">\n",
       "  <thead>\n",
       " <tr style=\"text-align: left;\">\n",
       "      <th>Epoch</th>\n",
       "      <th>Training Loss</th>\n",
       "      <th>Validation Loss</th>\n",
       "      <th>Accuracy</th>\n",
       "      <th>F1</th>\n",
       "      <th>Precision</th>\n",
       "      <th>Recall</th>\n",
       "    </tr>\n",
       "  </thead>\n",
       "  <tbody>\n",
       "    <tr>\n",
       "      <td>1</td>\n",
       "      <td>0.717900</td>\n",
       "      <td>0.676281</td>\n",
       "      <td>0.670168</td>\n",
       "      <td>0.659306</td>\n",
       "      <td>0.684088</td>\n",
       "      <td>0.670168</td>\n",
       "    </tr>\n",
       "  </tbody>\n",
       "</table><p>"
      ],
      "text/plain": [
       "<IPython.core.display.HTML object>"
      ]
     },
     "metadata": {},
     "output_type": "display_data"
    },
    {
     "name": "stdout",
     "output_type": "stream",
     "text": [
      "[INFO] ✅ Epoch 1 학습 완료\n"
     ]
    },
    {
     "data": {
      "text/html": [
       "\n",
       "    <div>\n",
       "      \n",
       "      <progress value='60' max='60' style='width:300px; height:20px; vertical-align: middle;'></progress>\n",
       "      [60/60 00:00]\n",
       "    </div>\n",
       "    "
      ],
      "text/plain": [
       "<IPython.core.display.HTML object>"
      ]
     },
     "metadata": {},
     "output_type": "display_data"
    },
    {
     "name": "stdout",
     "output_type": "stream",
     "text": [
      "📊 평가 지표 반환 결과: {'eval_accuracy': 0.6701680672268907, 'eval_loss': 0.6762813329696655, 'eval_f1': 0.659306249674895, 'eval_precision': 0.684087922941033, 'eval_recall': 0.6701680672268907, 'eval_runtime': 0.6478, 'eval_samples_per_second': 734.744, 'eval_steps_per_second': 92.615, 'epoch': 1.0}\n",
      "[INFO] 📊 Epoch 1 평가 결과: {'eval_accuracy': 0.6701680672268907, 'eval_loss': 0.6762813329696655, 'eval_f1': 0.659306249674895, 'eval_precision': 0.684087922941033, 'eval_recall': 0.6701680672268907, 'eval_runtime': 0.6478, 'eval_samples_per_second': 734.744, 'eval_steps_per_second': 92.615, 'epoch': 1.0}\n",
      "[EPOCH 1] Accuracy: 0.6702 | F1: 0.6593 | Precision: 0.6841 | Recall: 0.6702\n",
      "[EPOCH 1] 📁 Checkpoint 저장 경로: ./round1-epoch-1/checkpoint-159\n",
      "\n",
      "[INFO] 🔁 Training round1 with epoch=2\n"
     ]
    },
    {
     "name": "stderr",
     "output_type": "stream",
     "text": [
      "/home/elicer/FORIF_AI-study_team-ESG/.venv/lib/python3.11/site-packages/huggingface_hub/file_download.py:896: FutureWarning: `resume_download` is deprecated and will be removed in version 1.0.0. Downloads always resume when possible. If you want to force a new download, use `force_download=True`.\n",
      "  warnings.warn(\n"
     ]
    },
    {
     "data": {
      "text/html": [
       "\n",
       "    <div>\n",
       "      \n",
       "      <progress value='318' max='318' style='width:300px; height:20px; vertical-align: middle;'></progress>\n",
       "      [318/318 00:21, Epoch 2/2]\n",
       "    </div>\n",
       "    <table border=\"1\" class=\"dataframe\">\n",
       "  <thead>\n",
       " <tr style=\"text-align: left;\">\n",
       "      <th>Epoch</th>\n",
       "      <th>Training Loss</th>\n",
       "      <th>Validation Loss</th>\n",
       "      <th>Accuracy</th>\n",
       "      <th>F1</th>\n",
       "      <th>Precision</th>\n",
       "      <th>Recall</th>\n",
       "    </tr>\n",
       "  </thead>\n",
       "  <tbody>\n",
       "    <tr>\n",
       "      <td>1</td>\n",
       "      <td>0.703300</td>\n",
       "      <td>0.626375</td>\n",
       "      <td>0.733193</td>\n",
       "      <td>0.730800</td>\n",
       "      <td>0.734542</td>\n",
       "      <td>0.733193</td>\n",
       "    </tr>\n",
       "    <tr>\n",
       "      <td>2</td>\n",
       "      <td>0.462100</td>\n",
       "      <td>0.677059</td>\n",
       "      <td>0.714286</td>\n",
       "      <td>0.711131</td>\n",
       "      <td>0.715256</td>\n",
       "      <td>0.714286</td>\n",
       "    </tr>\n",
       "  </tbody>\n",
       "</table><p>"
      ],
      "text/plain": [
       "<IPython.core.display.HTML object>"
      ]
     },
     "metadata": {},
     "output_type": "display_data"
    },
    {
     "name": "stdout",
     "output_type": "stream",
     "text": [
      "[INFO] ✅ Epoch 2 학습 완료\n"
     ]
    },
    {
     "data": {
      "text/html": [
       "\n",
       "    <div>\n",
       "      \n",
       "      <progress value='60' max='60' style='width:300px; height:20px; vertical-align: middle;'></progress>\n",
       "      [60/60 00:00]\n",
       "    </div>\n",
       "    "
      ],
      "text/plain": [
       "<IPython.core.display.HTML object>"
      ]
     },
     "metadata": {},
     "output_type": "display_data"
    },
    {
     "name": "stdout",
     "output_type": "stream",
     "text": [
      "📊 평가 지표 반환 결과: {'eval_accuracy': 0.7142857142857143, 'eval_loss': 0.6770592927932739, 'eval_f1': 0.7111313118408462, 'eval_precision': 0.7152560030676074, 'eval_recall': 0.7142857142857143, 'eval_runtime': 0.6359, 'eval_samples_per_second': 748.489, 'eval_steps_per_second': 94.347, 'epoch': 2.0}\n",
      "[INFO] 📊 Epoch 2 평가 결과: {'eval_accuracy': 0.7142857142857143, 'eval_loss': 0.6770592927932739, 'eval_f1': 0.7111313118408462, 'eval_precision': 0.7152560030676074, 'eval_recall': 0.7142857142857143, 'eval_runtime': 0.6359, 'eval_samples_per_second': 748.489, 'eval_steps_per_second': 94.347, 'epoch': 2.0}\n",
      "[EPOCH 2] Accuracy: 0.7143 | F1: 0.7111 | Precision: 0.7153 | Recall: 0.7143\n",
      "[EPOCH 2] 📁 Checkpoint 저장 경로: ./round1-epoch-2/checkpoint-318\n",
      "\n",
      "[INFO] 🔁 Training round1 with epoch=3\n"
     ]
    },
    {
     "name": "stderr",
     "output_type": "stream",
     "text": [
      "/home/elicer/FORIF_AI-study_team-ESG/.venv/lib/python3.11/site-packages/huggingface_hub/file_download.py:896: FutureWarning: `resume_download` is deprecated and will be removed in version 1.0.0. Downloads always resume when possible. If you want to force a new download, use `force_download=True`.\n",
      "  warnings.warn(\n"
     ]
    },
    {
     "data": {
      "text/html": [
       "\n",
       "    <div>\n",
       "      \n",
       "      <progress value='477' max='477' style='width:300px; height:20px; vertical-align: middle;'></progress>\n",
       "      [477/477 00:29, Epoch 3/3]\n",
       "    </div>\n",
       "    <table border=\"1\" class=\"dataframe\">\n",
       "  <thead>\n",
       " <tr style=\"text-align: left;\">\n",
       "      <th>Epoch</th>\n",
       "      <th>Training Loss</th>\n",
       "      <th>Validation Loss</th>\n",
       "      <th>Accuracy</th>\n",
       "      <th>F1</th>\n",
       "      <th>Precision</th>\n",
       "      <th>Recall</th>\n",
       "    </tr>\n",
       "  </thead>\n",
       "  <tbody>\n",
       "    <tr>\n",
       "      <td>1</td>\n",
       "      <td>0.705100</td>\n",
       "      <td>0.623966</td>\n",
       "      <td>0.737395</td>\n",
       "      <td>0.735455</td>\n",
       "      <td>0.738186</td>\n",
       "      <td>0.737395</td>\n",
       "    </tr>\n",
       "    <tr>\n",
       "      <td>2</td>\n",
       "      <td>0.460500</td>\n",
       "      <td>0.729270</td>\n",
       "      <td>0.695378</td>\n",
       "      <td>0.686341</td>\n",
       "      <td>0.704858</td>\n",
       "      <td>0.695378</td>\n",
       "    </tr>\n",
       "    <tr>\n",
       "      <td>3</td>\n",
       "      <td>0.190100</td>\n",
       "      <td>1.043670</td>\n",
       "      <td>0.697479</td>\n",
       "      <td>0.692617</td>\n",
       "      <td>0.705985</td>\n",
       "      <td>0.697479</td>\n",
       "    </tr>\n",
       "  </tbody>\n",
       "</table><p>"
      ],
      "text/plain": [
       "<IPython.core.display.HTML object>"
      ]
     },
     "metadata": {},
     "output_type": "display_data"
    },
    {
     "name": "stdout",
     "output_type": "stream",
     "text": [
      "[INFO] ✅ Epoch 3 학습 완료\n"
     ]
    },
    {
     "data": {
      "text/html": [
       "\n",
       "    <div>\n",
       "      \n",
       "      <progress value='60' max='60' style='width:300px; height:20px; vertical-align: middle;'></progress>\n",
       "      [60/60 00:00]\n",
       "    </div>\n",
       "    "
      ],
      "text/plain": [
       "<IPython.core.display.HTML object>"
      ]
     },
     "metadata": {},
     "output_type": "display_data"
    },
    {
     "name": "stdout",
     "output_type": "stream",
     "text": [
      "📊 평가 지표 반환 결과: {'eval_accuracy': 0.6974789915966386, 'eval_loss': 1.043670415878296, 'eval_f1': 0.6926165906370801, 'eval_precision': 0.7059852403398477, 'eval_recall': 0.6974789915966386, 'eval_runtime': 0.6375, 'eval_samples_per_second': 746.663, 'eval_steps_per_second': 94.117, 'epoch': 3.0}\n",
      "[INFO] 📊 Epoch 3 평가 결과: {'eval_accuracy': 0.6974789915966386, 'eval_loss': 1.043670415878296, 'eval_f1': 0.6926165906370801, 'eval_precision': 0.7059852403398477, 'eval_recall': 0.6974789915966386, 'eval_runtime': 0.6375, 'eval_samples_per_second': 746.663, 'eval_steps_per_second': 94.117, 'epoch': 3.0}\n",
      "[EPOCH 3] Accuracy: 0.6975 | F1: 0.6926 | Precision: 0.7060 | Recall: 0.6975\n",
      "[EPOCH 3] 📁 Checkpoint 저장 경로: ./round1-epoch-3/checkpoint-477\n",
      "\n",
      "📊 전체 epoch 성능 요약:\n",
      "|   epoch |   eval_accuracy |   eval_f1 |   eval_precision |   eval_recall | model_save_path                 |\n",
      "|---------|-----------------|-----------|------------------|---------------|---------------------------------|\n",
      "|       1 |        0.670168 |  0.659306 |         0.684088 |      0.670168 | ./round1-epoch-1/checkpoint-159 |\n",
      "|       2 |        0.714286 |  0.711131 |         0.715256 |      0.714286 | ./round1-epoch-2/checkpoint-318 |\n",
      "|       3 |        0.697479 |  0.692617 |         0.705985 |      0.697479 | ./round1-epoch-3/checkpoint-477 |\n",
      "\n",
      "📈 성능 그래프:\n"
     ]
    },
    {
     "data": {
      "image/png": "[encoded data removed]",
      "text/plain": [
       "<Figure size 640x480 with 1 Axes>"
      ]
     },
     "metadata": {},
     "output_type": "display_data"
    },
    {
     "name": "stdout",
     "output_type": "stream",
     "text": [
      "\n",
      "✅ round1 학습완료! 원하는 epoch의 모델을 선택하여 사용하세요.\n",
      "🔎 결과 요약 파일: round1_epoch_performance_report.csv\n",
      "\n",
      "📍 학습 완료! 'round1_epoch_performance_report.csv' 확인 후 원하는 epoch 모델을 선택하세요.\n"
     ]
    }
   ],
   "source": [
    "# 1. 수작업 라벨링 데이터 로드 → 1차 파인튜닝\n",
    "print(\"[STEP 1] 1차 라벨링 데이터 로딩 및 학습\")\n",
    "labeled1 = pd.read_csv(\"labeled_esg_news_round1.csv\")\n",
    "dataset1 = Dataset.from_pandas(labeled1)\n",
    "dataset1 = dataset1.map(lambda x: tokenizer(x['text'], truncation=True, max_length=512), batched=True)\n",
    "train_with_epochs(dataset1, \"round1\")\n",
    "\n",
    "print(\"\\n📍 학습 완료! 'round1_epoch_performance_report.csv' 확인 후 원하는 epoch 모델을 선택하세요.\")\n"
   ]
  },
  {
   "cell_type": "markdown",
   "id": "cadadafe",
   "metadata": {},
   "source": [
    "### 2-2. 모델 선택 -> 라벨링 수행"
   ]
  },
  {
   "cell_type": "code",
   "execution_count": 12,
   "id": "100f6365",
   "metadata": {},
   "outputs": [
    {
     "name": "stdout",
     "output_type": "stream",
     "text": [
      "[INFO] 🔍 모델 로딩: epoch 2 | 경로: ./round1-epoch-2/checkpoint-318\n"
     ]
    }
   ],
   "source": [
    "# 사용자가 직접 선택한 epoch 값 입력\n",
    "chosen_epoch = 2\n",
    "\n",
    "# 모델 불러오기\n",
    "model_path1 = load_model_from_epoch(\"round1_epoch_performance_report.csv\", chosen_epoch)"
   ]
  },
  {
   "cell_type": "markdown",
   "id": "3b54e536",
   "metadata": {},
   "source": [
    "# 3.Margin Sampling 추출"
   ]
  },
  {
   "cell_type": "code",
   "execution_count": 14,
   "id": "fd101a22",
   "metadata": {},
   "outputs": [
    {
     "name": "stdout",
     "output_type": "stream",
     "text": [
      "\n",
      "[STEP 2] 전체 예측 및 Margin Sampling\n",
      "✅ 2차 라벨링 대상 저장 완료: to_label_round2.csv\n"
     ]
    }
   ],
   "source": [
    "# 2. 전체 예측 후 Margin Sampling → 2차 라벨링 대상 선정\n",
    "print(\"\\n[STEP 2] 전체 예측 및 Margin Sampling\")\n",
    "def get_predictions(model_path, text_list, batch_size=64):\n",
    "    model = AutoModelForSequenceClassification.from_pretrained(model_path).to(\"cuda\")\n",
    "    model.eval()\n",
    "    all_probs = []\n",
    "    for i in range(0, len(text_list), batch_size):\n",
    "        batch = text_list[i:i+batch_size]\n",
    "        encodings = tokenizer(batch, padding=True, truncation=True, max_length=512, return_tensors=\"pt\").to(\"cuda\")\n",
    "        with torch.no_grad():\n",
    "            outputs = model(**encodings)\n",
    "            probs = torch.softmax(outputs.logits, dim=-1)\n",
    "            all_probs.extend(probs.cpu().numpy())\n",
    "    return np.array(all_probs)\n",
    "\n",
    "def margin_sampling(probs, top_k=500):\n",
    "    margins = []\n",
    "    for i, p in enumerate(probs):\n",
    "        sorted_p = np.sort(p)\n",
    "        margin = sorted_p[-1] - sorted_p[-2]\n",
    "        margins.append((i, margin))\n",
    "    selected = sorted(margins, key=lambda x: x[1])[:top_k]\n",
    "    return [i for i, _ in selected]\n",
    "\n",
    "unlabeled_df = pd.read_csv(\"unlabeled_esg_news.csv\")\n",
    "unlabeled_texts = unlabeled_df[\"text\"].tolist()\n",
    "probs = get_predictions(model_path1, unlabeled_texts)\n",
    "selected_idxs = margin_sampling(probs, top_k=500)\n",
    "to_label_texts = [unlabeled_texts[i] for i in selected_idxs]\n",
    "pd.DataFrame({\"text\": to_label_texts}).to_csv(\"to_label_round2.csv\", index=False)\n",
    "print(\"✅ 2차 라벨링 대상 저장 완료: to_label_round2.csv\")"
   ]
  },
  {
   "cell_type": "markdown",
   "id": "28c73c8f",
   "metadata": {},
   "source": [
    "# <<<<수작업 2차 레이블링 진행>>>>"
   ]
  },
  {
   "cell_type": "markdown",
   "id": "7fa3e4c1",
   "metadata": {},
   "source": [
    "# 4. 데이터 통합"
   ]
  },
  {
   "cell_type": "code",
   "execution_count": 51,
   "id": "9bbc50e4",
   "metadata": {},
   "outputs": [
    {
     "name": "stdout",
     "output_type": "stream",
     "text": [
      "\n",
      "[STEP 3] 2차 라벨링 데이터 로딩 및 통합 학습\n",
      "🔢 통합 라벨링 데이터 수: 2740\n"
     ]
    }
   ],
   "source": [
    "print(\"\\n[STEP 3] 2차 라벨링 데이터 로딩 및 통합 학습\")\n",
    "labeled2 = pd.read_csv(\"labeled_esg_news_round2.csv\")\n",
    "combined = pd.concat([labeled1, labeled2], ignore_index=True)\n",
    "combined = combined.drop_duplicates(subset=[\"text\"])\n",
    "combined[\"label\"] = combined[\"label\"].astype(int)\n",
    "dataset2 = Dataset.from_pandas(combined)\n",
    "print(f\"🔢 통합 라벨링 데이터 수: {len(combined)}\")"
   ]
  },
  {
   "cell_type": "code",
   "execution_count": 50,
   "id": "1ea66e89",
   "metadata": {},
   "outputs": [],
   "source": [
    "dataset2 = dataset2.rename_column(\"label\", \"labels\")"
   ]
  },
  {
   "cell_type": "markdown",
   "id": "7f8b38d0",
   "metadata": {},
   "source": [
    "# 5. 2차 파인튜닝"
   ]
  },
  {
   "cell_type": "code",
   "execution_count": 54,
   "id": "027942cd",
   "metadata": {},
   "outputs": [],
   "source": [
    "# ✅ Round2용 수정 사항 요약\n",
    "# 1. 모델 로드시 AutoConfig 사용하여 구조 명시적으로 설정\n",
    "# 2. trainer.train() 전에 classifier 구조 및 num_labels 출력\n",
    "# 3. 'label' 컬럼을 'labels'로 rename 필요 (Trainer는 'labels'를 기본으로 사용함)\n",
    "# 학습 함수\n",
    "from transformers import AutoConfig, AutoModelForSequenceClassification\n",
    "import os\n",
    "\n",
    "def train_with_epochs(dataset, prefix, model_checkpoint):\n",
    "    results = []\n",
    "\n",
    "    # ✅ 1. 'label' → 'labels' 변경 (Trainer 기본 라벨 키)\n",
    "    # if 'label' in dataset.column_names:\n",
    "    #     dataset = dataset.rename_column(\"label\", \"labels\")\n",
    "\n",
    "    # ✅ 2. 데이터 분할\n",
    "    dataset = dataset.train_test_split(test_size=0.2, seed=42)\n",
    "    print(f\"\\n🔧 데이터 분할 완료: 학습 {len(dataset['train'])}개, 평가 {len(dataset['test'])}개\")\n",
    "\n",
    "    # os.environ[\"CUDA_LAUNCH_BLOCKING\"] = \"1\"\n",
    "\n",
    "# print(\"📦 classifier 확인:\", model.classifier)\n",
    "    for epoch in [7, 8, 9, 10]:\n",
    "        print(f\"\\n[INFO] 🔁 Training {prefix} with epoch={epoch}\")\n",
    "\n",
    "        # ✅ 3. config 방식으로 모델 구조 명확히 설정\n",
    "        config = AutoConfig.from_pretrained(model_checkpoint, num_labels=3)\n",
    "        model = AutoModelForSequenceClassification.from_pretrained(\n",
    "            model_checkpoint,\n",
    "            config=config\n",
    "        ).to(\"cuda\")\n",
    "\n",
    "        # ✅ 4. 구조 디버깅 출력\n",
    "        print(\"📦 분류기 구조:\", model.classifier)\n",
    "        print(\"🔧 num_labels 설정:\", model.config.num_labels)\n",
    "\n",
    "        training_args = TrainingArguments(\n",
    "            output_dir=f\"./{prefix}-epoch-{epoch}\",\n",
    "            learning_rate=5e-5,\n",
    "            per_device_train_batch_size=12,\n",
    "            gradient_accumulation_steps=1,\n",
    "            num_train_epochs=epoch,\n",
    "            evaluation_strategy=\"epoch\",\n",
    "            save_strategy=\"epoch\",\n",
    "            load_best_model_at_end=False,\n",
    "            save_total_limit=None,\n",
    "            logging_steps=50,\n",
    "            report_to=\"none\",\n",
    "        )\n",
    "\n",
    "        trainer = Trainer(\n",
    "            model=model,\n",
    "            args=training_args,\n",
    "            train_dataset=dataset[\"train\"],\n",
    "            eval_dataset=dataset[\"test\"],\n",
    "            tokenizer=tokenizer,\n",
    "            data_collator=DataCollatorWithPadding(tokenizer),\n",
    "            compute_metrics=compute_metrics\n",
    "        )\n",
    "\n",
    "        trainer.train()\n",
    "        print(f\"[INFO] ✅ Epoch {epoch} 학습 완료\")\n",
    "        metrics = trainer.evaluate()\n",
    "        print(\"📊 평가 지표 반환 결과:\", metrics) \n",
    "        print(f\"[INFO] 📊 Epoch {epoch} 평가 결과: {metrics}\")\n",
    "        metrics[\"epoch\"] = epoch\n",
    "\n",
    "        checkpoint_dirs = sorted(glob.glob(os.path.join(training_args.output_dir, \"checkpoint-*\")))\n",
    "        if checkpoint_dirs:\n",
    "            metrics[\"model_save_path\"] = checkpoint_dirs[-1]\n",
    "        else:\n",
    "            metrics[\"model_save_path\"] = \"Not found\"\n",
    "        results.append(metrics)\n",
    "\n",
    "        print(f\"[EPOCH {epoch}] Accuracy: {metrics['eval_accuracy']:.4f} | F1: {metrics['eval_f1']:.4f} | \"\n",
    "              f\"Precision: {metrics['eval_precision']:.4f} | Recall: {metrics['eval_recall']:.4f}\")\n",
    "        print(f\"[EPOCH {epoch}] 📁 Checkpoint 저장 경로: {metrics['model_save_path']}\")\n",
    "\n",
    "    results_df = pd.DataFrame(results)\n",
    "    results_df.to_csv(f\"{prefix}_epoch_performance_report.csv\", index=False)\n",
    "\n",
    "    print(\"\\n📊 전체 epoch 성능 요약:\")\n",
    "    summary_table = results_df[[\"epoch\", \"eval_accuracy\", \"eval_f1\", \"eval_precision\", \"eval_recall\", \"model_save_path\"]]\n",
    "    print(tabulate(summary_table, headers=\"keys\", tablefmt=\"github\", showindex=False))\n",
    "\n",
    "    print(\"\\n📈 성능 그래프:\")\n",
    "    results_df.set_index(\"epoch\")[[\"eval_accuracy\", \"eval_f1\"]].plot(marker=\"o\")\n",
    "    plt.title(f\"{prefix}: Epoch vs Accuracy/F1\")\n",
    "    plt.ylabel(\"Score\")\n",
    "    plt.xlabel(\"Epoch\")\n",
    "    plt.grid(True)\n",
    "    plt.savefig(f\"{prefix}_epoch_performance_plot.png\")\n",
    "    plt.show()\n",
    "\n",
    "    print(f\"\\n✅ {prefix} 학습완료! 원하는 epoch의 모델을 선택하여 사용하세요.\")\n",
    "    print(f\"🔎 결과 요약 파일: {prefix}_epoch_performance_report.csv\")\n"
   ]
  },
  {
   "cell_type": "markdown",
   "id": "320783ea",
   "metadata": {},
   "source": [
    "### 5-1. Epoch 평가"
   ]
  },
  {
   "cell_type": "code",
   "execution_count": 56,
   "id": "1427b1b1",
   "metadata": {},
   "outputs": [
    {
     "data": {
      "application/vnd.jupyter.widget-view+json": {
       "model_id": "9137891d7c6641408040417443063e23",
       "version_major": 2,
       "version_minor": 0
      },
      "text/plain": [
       "Map:   0%|          | 0/2740 [00:00<?, ? examples/s]"
      ]
     },
     "metadata": {},
     "output_type": "display_data"
    },
    {
     "name": "stdout",
     "output_type": "stream",
     "text": [
      "\n",
      "🔧 데이터 분할 완료: 학습 2192개, 평가 548개\n",
      "\n",
      "[INFO] 🔁 Training round2 with epoch=7\n"
     ]
    },
    {
     "ename": "RuntimeError",
     "evalue": "CUDA error: device-side assert triggered\nCUDA kernel errors might be asynchronously reported at some other API call, so the stacktrace below might be incorrect.\nFor debugging consider passing CUDA_LAUNCH_BLOCKING=1\nCompile with `TORCH_USE_CUDA_DSA` to enable device-side assertions.\n",
     "output_type": "error",
     "traceback": [
      "\u001b[31m---------------------------------------------------------------------------\u001b[39m",
      "\u001b[31mRuntimeError\u001b[39m                              Traceback (most recent call last)",
      "\u001b[36mCell\u001b[39m\u001b[36m \u001b[39m\u001b[32mIn[56]\u001b[39m\u001b[32m, line 2\u001b[39m\n\u001b[32m      1\u001b[39m dataset2 = dataset2.map(\u001b[38;5;28;01mlambda\u001b[39;00m x: tokenizer(x[\u001b[33m'\u001b[39m\u001b[33mtext\u001b[39m\u001b[33m'\u001b[39m], truncation=\u001b[38;5;28;01mTrue\u001b[39;00m, max_length=\u001b[32m512\u001b[39m), batched=\u001b[38;5;28;01mTrue\u001b[39;00m)\n\u001b[32m----> \u001b[39m\u001b[32m2\u001b[39m \u001b[43mtrain_with_epochs\u001b[49m\u001b[43m(\u001b[49m\u001b[43mdataset2\u001b[49m\u001b[43m,\u001b[49m\u001b[43m \u001b[49m\u001b[33;43m\"\u001b[39;49m\u001b[33;43mround2\u001b[39;49m\u001b[33;43m\"\u001b[39;49m\u001b[43m,\u001b[49m\u001b[43m \u001b[49m\u001b[33;43m\"\u001b[39;49m\u001b[33;43m./round1-epoch-1/checkpoint-159\u001b[39;49m\u001b[33;43m\"\u001b[39;49m\u001b[43m)\u001b[49m\n\u001b[32m      4\u001b[39m \u001b[38;5;28mprint\u001b[39m(\u001b[33m\"\u001b[39m\u001b[38;5;130;01m\\n\u001b[39;00m\u001b[33m📍 학습 완료! \u001b[39m\u001b[33m'\u001b[39m\u001b[33mround2_epoch_performance_report.csv\u001b[39m\u001b[33m'\u001b[39m\u001b[33m를 확인 후 원하는 모델을 선택하세요.\u001b[39m\u001b[33m\"\u001b[39m)\n",
      "\u001b[36mCell\u001b[39m\u001b[36m \u001b[39m\u001b[32mIn[54]\u001b[39m\u001b[32m, line 31\u001b[39m, in \u001b[36mtrain_with_epochs\u001b[39m\u001b[34m(dataset, prefix, model_checkpoint)\u001b[39m\n\u001b[32m     26\u001b[39m \u001b[38;5;66;03m# ✅ 3. config 방식으로 모델 구조 명확히 설정\u001b[39;00m\n\u001b[32m     27\u001b[39m config = AutoConfig.from_pretrained(model_checkpoint, num_labels=\u001b[32m3\u001b[39m)\n\u001b[32m     28\u001b[39m model = \u001b[43mAutoModelForSequenceClassification\u001b[49m\u001b[43m.\u001b[49m\u001b[43mfrom_pretrained\u001b[49m\u001b[43m(\u001b[49m\n\u001b[32m     29\u001b[39m \u001b[43m    \u001b[49m\u001b[43mmodel_checkpoint\u001b[49m\u001b[43m,\u001b[49m\n\u001b[32m     30\u001b[39m \u001b[43m    \u001b[49m\u001b[43mconfig\u001b[49m\u001b[43m=\u001b[49m\u001b[43mconfig\u001b[49m\n\u001b[32m---> \u001b[39m\u001b[32m31\u001b[39m \u001b[43m\u001b[49m\u001b[43m)\u001b[49m\u001b[43m.\u001b[49m\u001b[43mto\u001b[49m\u001b[43m(\u001b[49m\u001b[33;43m\"\u001b[39;49m\u001b[33;43mcuda\u001b[39;49m\u001b[33;43m\"\u001b[39;49m\u001b[43m)\u001b[49m\n\u001b[32m     33\u001b[39m \u001b[38;5;66;03m# ✅ 4. 구조 디버깅 출력\u001b[39;00m\n\u001b[32m     34\u001b[39m \u001b[38;5;28mprint\u001b[39m(\u001b[33m\"\u001b[39m\u001b[33m📦 분류기 구조:\u001b[39m\u001b[33m\"\u001b[39m, model.classifier)\n",
      "\u001b[36mFile \u001b[39m\u001b[32m~/FORIF_AI-study_team-ESG/.venv/lib/python3.11/site-packages/transformers/modeling_utils.py:2271\u001b[39m, in \u001b[36mPreTrainedModel.to\u001b[39m\u001b[34m(self, *args, **kwargs)\u001b[39m\n\u001b[32m   2266\u001b[39m     \u001b[38;5;28;01mif\u001b[39;00m dtype_present_in_args:\n\u001b[32m   2267\u001b[39m         \u001b[38;5;28;01mraise\u001b[39;00m \u001b[38;5;167;01mValueError\u001b[39;00m(\n\u001b[32m   2268\u001b[39m             \u001b[33m\"\u001b[39m\u001b[33mYou cannot cast a GPTQ model in a new `dtype`. Make sure to load the model using `from_pretrained` using the desired\u001b[39m\u001b[33m\"\u001b[39m\n\u001b[32m   2269\u001b[39m             \u001b[33m\"\u001b[39m\u001b[33m `dtype` by passing the correct `torch_dtype` argument.\u001b[39m\u001b[33m\"\u001b[39m\n\u001b[32m   2270\u001b[39m         )\n\u001b[32m-> \u001b[39m\u001b[32m2271\u001b[39m \u001b[38;5;28;01mreturn\u001b[39;00m \u001b[38;5;28;43msuper\u001b[39;49m\u001b[43m(\u001b[49m\u001b[43m)\u001b[49m\u001b[43m.\u001b[49m\u001b[43mto\u001b[49m\u001b[43m(\u001b[49m\u001b[43m*\u001b[49m\u001b[43margs\u001b[49m\u001b[43m,\u001b[49m\u001b[43m \u001b[49m\u001b[43m*\u001b[49m\u001b[43m*\u001b[49m\u001b[43mkwargs\u001b[49m\u001b[43m)\u001b[49m\n",
      "\u001b[36mFile \u001b[39m\u001b[32m~/FORIF_AI-study_team-ESG/.venv/lib/python3.11/site-packages/torch/nn/modules/module.py:1343\u001b[39m, in \u001b[36mModule.to\u001b[39m\u001b[34m(self, *args, **kwargs)\u001b[39m\n\u001b[32m   1340\u001b[39m         \u001b[38;5;28;01melse\u001b[39;00m:\n\u001b[32m   1341\u001b[39m             \u001b[38;5;28;01mraise\u001b[39;00m\n\u001b[32m-> \u001b[39m\u001b[32m1343\u001b[39m \u001b[38;5;28;01mreturn\u001b[39;00m \u001b[38;5;28;43mself\u001b[39;49m\u001b[43m.\u001b[49m\u001b[43m_apply\u001b[49m\u001b[43m(\u001b[49m\u001b[43mconvert\u001b[49m\u001b[43m)\u001b[49m\n",
      "\u001b[36mFile \u001b[39m\u001b[32m~/FORIF_AI-study_team-ESG/.venv/lib/python3.11/site-packages/torch/nn/modules/module.py:903\u001b[39m, in \u001b[36mModule._apply\u001b[39m\u001b[34m(self, fn, recurse)\u001b[39m\n\u001b[32m    901\u001b[39m \u001b[38;5;28;01mif\u001b[39;00m recurse:\n\u001b[32m    902\u001b[39m     \u001b[38;5;28;01mfor\u001b[39;00m module \u001b[38;5;129;01min\u001b[39;00m \u001b[38;5;28mself\u001b[39m.children():\n\u001b[32m--> \u001b[39m\u001b[32m903\u001b[39m         \u001b[43mmodule\u001b[49m\u001b[43m.\u001b[49m\u001b[43m_apply\u001b[49m\u001b[43m(\u001b[49m\u001b[43mfn\u001b[49m\u001b[43m)\u001b[49m\n\u001b[32m    905\u001b[39m \u001b[38;5;28;01mdef\u001b[39;00m\u001b[38;5;250m \u001b[39m\u001b[34mcompute_should_use_set_data\u001b[39m(tensor, tensor_applied):\n\u001b[32m    906\u001b[39m     \u001b[38;5;28;01mif\u001b[39;00m torch._has_compatible_shallow_copy_type(tensor, tensor_applied):\n\u001b[32m    907\u001b[39m         \u001b[38;5;66;03m# If the new tensor has compatible tensor type as the existing tensor,\u001b[39;00m\n\u001b[32m    908\u001b[39m         \u001b[38;5;66;03m# the current behavior is to change the tensor in-place using `.data =`,\u001b[39;00m\n\u001b[32m   (...)\u001b[39m\u001b[32m    913\u001b[39m         \u001b[38;5;66;03m# global flag to let the user control whether they want the future\u001b[39;00m\n\u001b[32m    914\u001b[39m         \u001b[38;5;66;03m# behavior of overwriting the existing tensor or not.\u001b[39;00m\n",
      "\u001b[36mFile \u001b[39m\u001b[32m~/FORIF_AI-study_team-ESG/.venv/lib/python3.11/site-packages/torch/nn/modules/module.py:903\u001b[39m, in \u001b[36mModule._apply\u001b[39m\u001b[34m(self, fn, recurse)\u001b[39m\n\u001b[32m    901\u001b[39m \u001b[38;5;28;01mif\u001b[39;00m recurse:\n\u001b[32m    902\u001b[39m     \u001b[38;5;28;01mfor\u001b[39;00m module \u001b[38;5;129;01min\u001b[39;00m \u001b[38;5;28mself\u001b[39m.children():\n\u001b[32m--> \u001b[39m\u001b[32m903\u001b[39m         \u001b[43mmodule\u001b[49m\u001b[43m.\u001b[49m\u001b[43m_apply\u001b[49m\u001b[43m(\u001b[49m\u001b[43mfn\u001b[49m\u001b[43m)\u001b[49m\n\u001b[32m    905\u001b[39m \u001b[38;5;28;01mdef\u001b[39;00m\u001b[38;5;250m \u001b[39m\u001b[34mcompute_should_use_set_data\u001b[39m(tensor, tensor_applied):\n\u001b[32m    906\u001b[39m     \u001b[38;5;28;01mif\u001b[39;00m torch._has_compatible_shallow_copy_type(tensor, tensor_applied):\n\u001b[32m    907\u001b[39m         \u001b[38;5;66;03m# If the new tensor has compatible tensor type as the existing tensor,\u001b[39;00m\n\u001b[32m    908\u001b[39m         \u001b[38;5;66;03m# the current behavior is to change the tensor in-place using `.data =`,\u001b[39;00m\n\u001b[32m   (...)\u001b[39m\u001b[32m    913\u001b[39m         \u001b[38;5;66;03m# global flag to let the user control whether they want the future\u001b[39;00m\n\u001b[32m    914\u001b[39m         \u001b[38;5;66;03m# behavior of overwriting the existing tensor or not.\u001b[39;00m\n",
      "\u001b[36mFile \u001b[39m\u001b[32m~/FORIF_AI-study_team-ESG/.venv/lib/python3.11/site-packages/torch/nn/modules/module.py:903\u001b[39m, in \u001b[36mModule._apply\u001b[39m\u001b[34m(self, fn, recurse)\u001b[39m\n\u001b[32m    901\u001b[39m \u001b[38;5;28;01mif\u001b[39;00m recurse:\n\u001b[32m    902\u001b[39m     \u001b[38;5;28;01mfor\u001b[39;00m module \u001b[38;5;129;01min\u001b[39;00m \u001b[38;5;28mself\u001b[39m.children():\n\u001b[32m--> \u001b[39m\u001b[32m903\u001b[39m         \u001b[43mmodule\u001b[49m\u001b[43m.\u001b[49m\u001b[43m_apply\u001b[49m\u001b[43m(\u001b[49m\u001b[43mfn\u001b[49m\u001b[43m)\u001b[49m\n\u001b[32m    905\u001b[39m \u001b[38;5;28;01mdef\u001b[39;00m\u001b[38;5;250m \u001b[39m\u001b[34mcompute_should_use_set_data\u001b[39m(tensor, tensor_applied):\n\u001b[32m    906\u001b[39m     \u001b[38;5;28;01mif\u001b[39;00m torch._has_compatible_shallow_copy_type(tensor, tensor_applied):\n\u001b[32m    907\u001b[39m         \u001b[38;5;66;03m# If the new tensor has compatible tensor type as the existing tensor,\u001b[39;00m\n\u001b[32m    908\u001b[39m         \u001b[38;5;66;03m# the current behavior is to change the tensor in-place using `.data =`,\u001b[39;00m\n\u001b[32m   (...)\u001b[39m\u001b[32m    913\u001b[39m         \u001b[38;5;66;03m# global flag to let the user control whether they want the future\u001b[39;00m\n\u001b[32m    914\u001b[39m         \u001b[38;5;66;03m# behavior of overwriting the existing tensor or not.\u001b[39;00m\n",
      "\u001b[36mFile \u001b[39m\u001b[32m~/FORIF_AI-study_team-ESG/.venv/lib/python3.11/site-packages/torch/nn/modules/module.py:930\u001b[39m, in \u001b[36mModule._apply\u001b[39m\u001b[34m(self, fn, recurse)\u001b[39m\n\u001b[32m    926\u001b[39m \u001b[38;5;66;03m# Tensors stored in modules are graph leaves, and we don't want to\u001b[39;00m\n\u001b[32m    927\u001b[39m \u001b[38;5;66;03m# track autograd history of `param_applied`, so we have to use\u001b[39;00m\n\u001b[32m    928\u001b[39m \u001b[38;5;66;03m# `with torch.no_grad():`\u001b[39;00m\n\u001b[32m    929\u001b[39m \u001b[38;5;28;01mwith\u001b[39;00m torch.no_grad():\n\u001b[32m--> \u001b[39m\u001b[32m930\u001b[39m     param_applied = \u001b[43mfn\u001b[49m\u001b[43m(\u001b[49m\u001b[43mparam\u001b[49m\u001b[43m)\u001b[49m\n\u001b[32m    931\u001b[39m p_should_use_set_data = compute_should_use_set_data(param, param_applied)\n\u001b[32m    933\u001b[39m \u001b[38;5;66;03m# subclasses may have multiple child tensors so we need to use swap_tensors\u001b[39;00m\n",
      "\u001b[36mFile \u001b[39m\u001b[32m~/FORIF_AI-study_team-ESG/.venv/lib/python3.11/site-packages/torch/nn/modules/module.py:1329\u001b[39m, in \u001b[36mModule.to.<locals>.convert\u001b[39m\u001b[34m(t)\u001b[39m\n\u001b[32m   1322\u001b[39m     \u001b[38;5;28;01mif\u001b[39;00m convert_to_format \u001b[38;5;129;01mis\u001b[39;00m \u001b[38;5;129;01mnot\u001b[39;00m \u001b[38;5;28;01mNone\u001b[39;00m \u001b[38;5;129;01mand\u001b[39;00m t.dim() \u001b[38;5;129;01min\u001b[39;00m (\u001b[32m4\u001b[39m, \u001b[32m5\u001b[39m):\n\u001b[32m   1323\u001b[39m         \u001b[38;5;28;01mreturn\u001b[39;00m t.to(\n\u001b[32m   1324\u001b[39m             device,\n\u001b[32m   1325\u001b[39m             dtype \u001b[38;5;28;01mif\u001b[39;00m t.is_floating_point() \u001b[38;5;129;01mor\u001b[39;00m t.is_complex() \u001b[38;5;28;01melse\u001b[39;00m \u001b[38;5;28;01mNone\u001b[39;00m,\n\u001b[32m   1326\u001b[39m             non_blocking,\n\u001b[32m   1327\u001b[39m             memory_format=convert_to_format,\n\u001b[32m   1328\u001b[39m         )\n\u001b[32m-> \u001b[39m\u001b[32m1329\u001b[39m     \u001b[38;5;28;01mreturn\u001b[39;00m \u001b[43mt\u001b[49m\u001b[43m.\u001b[49m\u001b[43mto\u001b[49m\u001b[43m(\u001b[49m\n\u001b[32m   1330\u001b[39m \u001b[43m        \u001b[49m\u001b[43mdevice\u001b[49m\u001b[43m,\u001b[49m\n\u001b[32m   1331\u001b[39m \u001b[43m        \u001b[49m\u001b[43mdtype\u001b[49m\u001b[43m \u001b[49m\u001b[38;5;28;43;01mif\u001b[39;49;00m\u001b[43m \u001b[49m\u001b[43mt\u001b[49m\u001b[43m.\u001b[49m\u001b[43mis_floating_point\u001b[49m\u001b[43m(\u001b[49m\u001b[43m)\u001b[49m\u001b[43m \u001b[49m\u001b[38;5;129;43;01mor\u001b[39;49;00m\u001b[43m \u001b[49m\u001b[43mt\u001b[49m\u001b[43m.\u001b[49m\u001b[43mis_complex\u001b[49m\u001b[43m(\u001b[49m\u001b[43m)\u001b[49m\u001b[43m \u001b[49m\u001b[38;5;28;43;01melse\u001b[39;49;00m\u001b[43m \u001b[49m\u001b[38;5;28;43;01mNone\u001b[39;49;00m\u001b[43m,\u001b[49m\n\u001b[32m   1332\u001b[39m \u001b[43m        \u001b[49m\u001b[43mnon_blocking\u001b[49m\u001b[43m,\u001b[49m\n\u001b[32m   1333\u001b[39m \u001b[43m    \u001b[49m\u001b[43m)\u001b[49m\n\u001b[32m   1334\u001b[39m \u001b[38;5;28;01mexcept\u001b[39;00m \u001b[38;5;167;01mNotImplementedError\u001b[39;00m \u001b[38;5;28;01mas\u001b[39;00m e:\n\u001b[32m   1335\u001b[39m     \u001b[38;5;28;01mif\u001b[39;00m \u001b[38;5;28mstr\u001b[39m(e) == \u001b[33m\"\u001b[39m\u001b[33mCannot copy out of meta tensor; no data!\u001b[39m\u001b[33m\"\u001b[39m:\n",
      "\u001b[31mRuntimeError\u001b[39m: CUDA error: device-side assert triggered\nCUDA kernel errors might be asynchronously reported at some other API call, so the stacktrace below might be incorrect.\nFor debugging consider passing CUDA_LAUNCH_BLOCKING=1\nCompile with `TORCH_USE_CUDA_DSA` to enable device-side assertions.\n"
     ]
    }
   ],
   "source": [
    "dataset2 = dataset2.map(lambda x: tokenizer(x['text'], truncation=True, max_length=512), batched=True)\n",
    "train_with_epochs(dataset2, \"round2\", \"./round1-epoch-1/checkpoint-159\")\n",
    "\n",
    "print(\"\\n📍 학습 완료! 'round2_epoch_performance_report.csv'를 확인 후 원하는 모델을 선택하세요.\")"
   ]
  },
  {
   "cell_type": "markdown",
   "id": "f31c93d1",
   "metadata": {},
   "source": [
    "### 5-2. 모델 선택"
   ]
  },
  {
   "cell_type": "code",
   "execution_count": 27,
   "id": "811ba1ae",
   "metadata": {},
   "outputs": [
    {
     "name": "stdout",
     "output_type": "stream",
     "text": [
      "[INFO] 🔍 모델 로딩: epoch 10 | 경로: ./round2-epoch-10/checkpoint-8\n"
     ]
    }
   ],
   "source": [
    "# 사용자가 직접 선택한 epoch 값 입력\n",
    "chosen_epoch = 10\n",
    "\n",
    "# 모델 불러오기\n",
    "model_path2 = load_model_from_epoch(\"round2_epoch_performance_report.csv\", chosen_epoch)"
   ]
  },
  {
   "cell_type": "markdown",
   "id": "7ae9c07f",
   "metadata": {},
   "source": [
    "# 6. 감성분석"
   ]
  },
  {
   "cell_type": "code",
   "execution_count": null,
   "id": "9813d86d",
   "metadata": {},
   "outputs": [
    {
     "name": "stdout",
     "output_type": "stream",
     "text": [
      "\n",
      "[STEP 4] 최종 감성분석 실행\n"
     ]
    }
   ],
   "source": [
    "# 데이터 로드\n",
    "print(\"\\n[STEP 4] 최종 감성분석 실행\")\n",
    "samsung_df = pd.read('Samsung.csv')\n",
    "hyundai_df = pd.read('Hyundai.csv')\n",
    "kia_df = pd.read('Kia.csv')\n",
    "lg_df = pd.read('LG.csv')\n",
    "sk_df = pd.read('SK.csv')"
   ]
  },
  {
   "cell_type": "code",
   "execution_count": null,
   "id": "59f88c48",
   "metadata": {},
   "outputs": [],
   "source": [
    "def get_sentiment_label(name, df):\n",
    "    all_texts = df[\"text\"].tolist()\n",
    "    final_probs = get_predictions(model_path2, all_texts)\n",
    "    final_preds = np.argmax(final_probs, axis=1)\n",
    "    df[\"sentiment\"] = final_preds\n",
    "    df.to_csv(f\"{name}_sentiment_result.csv\", index=False)\n",
    "    print(f\"📁 {name} 감성분석 결과 저장 완료: {name}_sentiment_result.csv\")\n",
    "    return df"
   ]
  },
  {
   "cell_type": "code",
   "execution_count": null,
   "id": "6566830d",
   "metadata": {},
   "outputs": [],
   "source": [
    "samsung_result = get_sentiment_label(\"Samsung\", samsung_df)\n",
    "hyundai_result = get_sentiment_label(\"Hyundai\", hyundai_df)\n",
    "kia_result = get_sentiment_label(\"Kia\", kia_df)\n",
    "lg_result = get_sentiment_label(\"LG\", lg_df)\n",
    "sk_result = get_sentiment_label(\"SK\", sk_df)"
   ]
  }
 ],
 "metadata": {
  "kernelspec": {
   "display_name": ".venv",
   "language": "python",
   "name": "python3"
  },
  "language_info": {
   "codemirror_mode": {
    "name": "ipython",
    "version": 3
   },
   "file_extension": ".py",
   "mimetype": "text/x-python",
   "name": "python",
   "nbconvert_exporter": "python",
   "pygments_lexer": "ipython3",
   "version": "3.11.12"
  }
 },
 "nbformat": 4,
 "nbformat_minor": 5
}
